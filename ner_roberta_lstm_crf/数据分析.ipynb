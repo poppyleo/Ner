{
 "cells": [
  {
   "cell_type": "code",
   "execution_count": 1,
   "metadata": {},
   "outputs": [],
   "source": [
    "import json\n",
    "import pandas as pd\n",
    "from pathlib import Path"
   ]
  },
  {
   "cell_type": "markdown",
   "metadata": {},
   "source": [
    "检查数据构造"
   ]
  },
  {
   "cell_type": "code",
   "execution_count": 85,
   "metadata": {},
   "outputs": [],
   "source": [
    "train_data_path = Path('./ccks_8_data_v2/train')"
   ]
  },
  {
   "cell_type": "code",
   "execution_count": 100,
   "metadata": {},
   "outputs": [],
   "source": [
    "with open(train_data_path/f'train_V2_400.json') as f:\n",
    "        data = json.load(f)"
   ]
  },
  {
   "cell_type": "code",
   "execution_count": 101,
   "metadata": {},
   "outputs": [
    {
     "data": {
      "text/plain": [
       "'太阳能无人机将采用薄膜太阳能电池和备用蓄电池以支持全天时飞行?该无人机的一个显著特点是在机翼末端放置螺旋桨,以节省能源?无人机飞行的持续时间估计为几周?高空“伪卫星”无人机的可能有效载荷为:通信中继器?拍照录像设备以及气象设备?'"
      ]
     },
     "execution_count": 101,
     "metadata": {},
     "output_type": "execute_result"
    }
   ],
   "source": [
    "text = data['originalText'];text"
   ]
  },
  {
   "cell_type": "code",
   "execution_count": 102,
   "metadata": {},
   "outputs": [
    {
     "data": {
      "text/plain": [
       "[{'label_type': '试验要素', 'overlap': 0, 'start_pos': 1, 'end_pos': 6},\n",
       " {'label_type': '试验要素', 'overlap': 0, 'start_pos': 77, 'end_pos': 86},\n",
       " {'label_type': '性能指标', 'overlap': 0, 'start_pos': 26, 'end_pos': 28},\n",
       " {'label_type': '性能指标', 'overlap': 0, 'start_pos': 67, 'end_pos': 70},\n",
       " {'label_type': '性能指标', 'overlap': 0, 'start_pos': 90, 'end_pos': 93},\n",
       " {'label_type': '系统组成', 'overlap': 0, 'start_pos': 10, 'end_pos': 16},\n",
       " {'label_type': '系统组成', 'overlap': 0, 'start_pos': 18, 'end_pos': 22},\n",
       " {'label_type': '系统组成', 'overlap': 0, 'start_pos': 45, 'end_pos': 48},\n",
       " {'label_type': '系统组成', 'overlap': 0, 'start_pos': 51, 'end_pos': 53},\n",
       " {'label_type': '系统组成', 'overlap': 0, 'start_pos': 96, 'end_pos': 100},\n",
       " {'label_type': '系统组成', 'overlap': 0, 'start_pos': 102, 'end_pos': 107},\n",
       " {'label_type': '系统组成', 'overlap': 0, 'start_pos': 110, 'end_pos': 113}]"
      ]
     },
     "execution_count": 102,
     "metadata": {},
     "output_type": "execute_result"
    }
   ],
   "source": [
    "ens = data['entities'];ens"
   ]
  },
  {
   "cell_type": "code",
   "execution_count": 103,
   "metadata": {},
   "outputs": [],
   "source": [
    "text = text.strip().replace('\\r\\n', 'r').replace(' ', 'r')"
   ]
  },
  {
   "cell_type": "code",
   "execution_count": 105,
   "metadata": {},
   "outputs": [
    {
     "data": {
      "text/plain": [
       "'太阳能无人机'"
      ]
     },
     "execution_count": 105,
     "metadata": {},
     "output_type": "execute_result"
    }
   ],
   "source": [
    "text[1-1:6]"
   ]
  },
  {
   "cell_type": "markdown",
   "metadata": {},
   "source": [
    "判断是否有实体标注重叠"
   ]
  },
  {
   "cell_type": "code",
   "execution_count": 14,
   "metadata": {},
   "outputs": [],
   "source": [
    "train_data_path = Path('./ccks_8_data_v2/train')"
   ]
  },
  {
   "cell_type": "code",
   "execution_count": 15,
   "metadata": {},
   "outputs": [],
   "source": [
    "for idx in range(1, 401):\n",
    "    with open(train_data_path/f'train_V2_{idx}.json') as f:\n",
    "            data = json.load(f)\n",
    "            for entity in data['entities']:\n",
    "                if entity['overlap'] != 0:\n",
    "                    print(idx)"
   ]
  },
  {
   "cell_type": "markdown",
   "metadata": {},
   "source": [
    "观察实体长度"
   ]
  },
  {
   "cell_type": "code",
   "execution_count": 106,
   "metadata": {},
   "outputs": [],
   "source": [
    "from collections import Counter"
   ]
  },
  {
   "cell_type": "code",
   "execution_count": 107,
   "metadata": {},
   "outputs": [],
   "source": [
    "enti_len_list = []\n",
    "for idx in range(1, 401):\n",
    "    with open(train_data_path/f'train_V2_{idx}.json') as f:\n",
    "            data = json.load(f)\n",
    "            for entity in data['entities']:\n",
    "                enti_len = entity['end_pos'] - entity['start_pos'] + 1\n",
    "                enti_len_list.append(enti_len)"
   ]
  },
  {
   "cell_type": "code",
   "execution_count": 108,
   "metadata": {},
   "outputs": [],
   "source": [
    "src = Counter(enti_len_list)"
   ]
  },
  {
   "cell_type": "markdown",
   "metadata": {},
   "source": [
    "查看长度为一的实体"
   ]
  },
  {
   "cell_type": "code",
   "execution_count": 114,
   "metadata": {},
   "outputs": [],
   "source": [
    "enti_len_list = []\n",
    "for idx in range(1, 401):\n",
    "    with open(train_data_path/f'train_V2_{idx}.json') as f:\n",
    "            data = json.load(f)\n",
    "            text = data['originalText']\n",
    "            for entity in data['entities']:\n",
    "                enti_len = entity['end_pos'] - entity['start_pos'] + 1\n",
    "                if enti_len==1:\n",
    "                    type = entity['label_type']\n",
    "                    en = text[entity['end_pos']-1]\n",
    "                    enti_len_list.append({type:en})"
   ]
  },
  {
   "cell_type": "code",
   "execution_count": 115,
   "metadata": {},
   "outputs": [
    {
     "data": {
      "text/plain": [
       "[{'性能指标': '长'},\n",
       " {'性能指标': '重'},\n",
       " {'性能指标': '重'},\n",
       " {'性能指标': '长'},\n",
       " {'性能指标': '重'},\n",
       " {'性能指标': '深'},\n",
       " {'性能指标': '长'},\n",
       " {'性能指标': '重'},\n",
       " {'性能指标': '重'},\n",
       " {'性能指标': '长'},\n",
       " {'性能指标': '重'},\n",
       " {'性能指标': '深'},\n",
       " {'性能指标': '快'},\n",
       " {'性能指标': '长'},\n",
       " {'性能指标': '长'},\n",
       " {'性能指标': '重'},\n",
       " {'性能指标': '重'},\n",
       " {'任务场景': '俄'},\n",
       " {'性能指标': '高'},\n",
       " {'试验要素': '火'},\n",
       " {'试验要素': '烟'},\n",
       " {'性能指标': '重'},\n",
       " {'性能指标': '长'},\n",
       " {'性能指标': '重'},\n",
       " {'系统组成': '翼'},\n",
       " {'试验要素': '车'},\n",
       " {'性能指标': '重'},\n",
       " {'性能指标': '长'},\n",
       " {'性能指标': '重'},\n",
       " {'性能指标': '重'},\n",
       " {'性能指标': '重'},\n",
       " {'性能指标': '重'}]"
      ]
     },
     "execution_count": 115,
     "metadata": {},
     "output_type": "execute_result"
    }
   ],
   "source": [
    "enti_len_list"
   ]
  },
  {
   "cell_type": "code",
   "execution_count": 109,
   "metadata": {},
   "outputs": [
    {
     "data": {
      "text/plain": [
       "Counter({10: 113,\n",
       "         6: 342,\n",
       "         7: 181,\n",
       "         9: 120,\n",
       "         11: 79,\n",
       "         2: 476,\n",
       "         3: 271,\n",
       "         4: 744,\n",
       "         5: 187,\n",
       "         17: 30,\n",
       "         13: 74,\n",
       "         15: 45,\n",
       "         14: 51,\n",
       "         8: 183,\n",
       "         36: 2,\n",
       "         19: 20,\n",
       "         12: 77,\n",
       "         1: 32,\n",
       "         23: 11,\n",
       "         33: 1,\n",
       "         18: 28,\n",
       "         20: 18,\n",
       "         16: 33,\n",
       "         27: 3,\n",
       "         21: 9,\n",
       "         26: 4,\n",
       "         22: 9,\n",
       "         24: 5,\n",
       "         28: 2,\n",
       "         25: 5,\n",
       "         41: 2,\n",
       "         29: 2,\n",
       "         35: 1,\n",
       "         30: 1})"
      ]
     },
     "execution_count": 109,
     "metadata": {},
     "output_type": "execute_result"
    }
   ],
   "source": [
    "src"
   ]
  },
  {
   "cell_type": "code",
   "execution_count": 77,
   "metadata": {},
   "outputs": [],
   "source": [
    "x = []\n",
    "y = []\n",
    "for idx in range(50):\n",
    "    y.append(src[idx])\n",
    "    x.append(idx)"
   ]
  },
  {
   "cell_type": "code",
   "execution_count": 57,
   "metadata": {},
   "outputs": [
    {
     "data": {
      "image/png": "[encoded data removed]",
      "text/plain": [
       "<Figure size 1080x576 with 1 Axes>"
      ]
     },
     "metadata": {
      "needs_background": "light"
     },
     "output_type": "display_data"
    }
   ],
   "source": [
    "import matplotlib.pyplot as plt\n",
    "import matplotlib\n",
    "# 设置中文字体和负号正常显示\n",
    "matplotlib.rcParams['font.sans-serif'] = ['SimHei']\n",
    "matplotlib.rcParams['axes.unicode_minus'] = False\n",
    "\n",
    "y = y\n",
    "x = x\n",
    "plt.figure(figsize=(15,8))\n",
    "plt.bar(x, height=y, width=0.8, alpha=0.8, color='red')\n",
    "plt.ylabel(\"数量\")\n",
    "plt.xlabel(\"长度\")\n",
    "plt.xticks(x, x)\n",
    "plt.title(\"标签长度分布\")\n",
    "# 编辑文本\n",
    "plt.show()"
   ]
  },
  {
   "cell_type": "markdown",
   "metadata": {},
   "source": [
    "预测结果长度分布"
   ]
  },
  {
   "cell_type": "code",
   "execution_count": 79,
   "metadata": {},
   "outputs": [],
   "source": [
    "data_path = Path('./data')"
   ]
  },
  {
   "cell_type": "code",
   "execution_count": 80,
   "metadata": {},
   "outputs": [],
   "source": [
    "enti_len_list = []\n",
    "with open(data_path/'submit.json') as f:\n",
    "        data = json.load(f)\n",
    "        for idx in range(1, 101):\n",
    "            for entity in data[f\"validate_V2_{idx}.json\"]:\n",
    "                enti_len = entity['end_pos'] - entity['start_pos'] + 1\n",
    "                enti_len_list.append(enti_len)"
   ]
  },
  {
   "cell_type": "code",
   "execution_count": 81,
   "metadata": {},
   "outputs": [],
   "source": [
    "pre = Counter(enti_len_list)"
   ]
  },
  {
   "cell_type": "code",
   "execution_count": 82,
   "metadata": {},
   "outputs": [
    {
     "data": {
      "text/plain": [
       "Counter({7: 43,\n",
       "         9: 26,\n",
       "         3: 117,\n",
       "         1: 10,\n",
       "         5: 60,\n",
       "         2: 138,\n",
       "         8: 33,\n",
       "         6: 84,\n",
       "         13: 26,\n",
       "         4: 189,\n",
       "         15: 12,\n",
       "         17: 9,\n",
       "         10: 19,\n",
       "         18: 6,\n",
       "         20: 3,\n",
       "         21: 6,\n",
       "         22: 2,\n",
       "         11: 13,\n",
       "         12: 22,\n",
       "         25: 3,\n",
       "         28: 1,\n",
       "         29: 1,\n",
       "         14: 11,\n",
       "         19: 6,\n",
       "         16: 10,\n",
       "         23: 2,\n",
       "         24: 1})"
      ]
     },
     "execution_count": 82,
     "metadata": {},
     "output_type": "execute_result"
    }
   ],
   "source": [
    "pre"
   ]
  },
  {
   "cell_type": "code",
   "execution_count": 83,
   "metadata": {},
   "outputs": [],
   "source": [
    "x = []\n",
    "y = []\n",
    "for idx in range(50):\n",
    "    y.append(pre[idx])\n",
    "    x.append(idx)"
   ]
  },
  {
   "cell_type": "code",
   "execution_count": 84,
   "metadata": {},
   "outputs": [
    {
     "data": {
      "image/png": "[encoded data removed]",
      "text/plain": [
       "<Figure size 1080x576 with 1 Axes>"
      ]
     },
     "metadata": {
      "needs_background": "light"
     },
     "output_type": "display_data"
    }
   ],
   "source": [
    "import matplotlib.pyplot as plt\n",
    "import matplotlib\n",
    "# 设置中文字体和负号正常显示\n",
    "matplotlib.rcParams['font.sans-serif'] = ['SimHei']\n",
    "matplotlib.rcParams['axes.unicode_minus'] = False\n",
    "\n",
    "y = y\n",
    "x = x\n",
    "plt.figure(figsize=(15,8))\n",
    "plt.bar(x, height=y, width=0.8, alpha=0.8, color='red')\n",
    "plt.ylabel(\"数量\")\n",
    "plt.xlabel(\"长度\")\n",
    "plt.xticks(x, x)\n",
    "plt.title(\"标签长度分布\")\n",
    "# 编辑文本\n",
    "plt.show()"
   ]
  },
  {
   "cell_type": "code",
   "execution_count": null,
   "metadata": {},
   "outputs": [],
   "source": []
  }
 ],
 "metadata": {
  "kernelspec": {
   "display_name": "Python 3",
   "language": "python",
   "name": "python3"
  },
  "language_info": {
   "codemirror_mode": {
    "name": "ipython",
    "version": 3
   },
   "file_extension": ".py",
   "mimetype": "text/x-python",
   "name": "python",
   "nbconvert_exporter": "python",
   "pygments_lexer": "ipython3",
   "version": "3.7.4"
  },
  "pycharm": {
   "stem_cell": {
    "cell_type": "raw",
    "metadata": {
     "collapsed": false
    },
    "source": []
   }
  },
  "toc": {
   "base_numbering": 1,
   "nav_menu": {},
   "number_sections": true,
   "sideBar": true,
   "skip_h1_title": false,
   "title_cell": "Table of Contents",
   "title_sidebar": "Contents",
   "toc_cell": false,
   "toc_position": {},
   "toc_section_display": true,
   "toc_window_display": false
  }
 },
 "nbformat": 4,
 "nbformat_minor": 2
}
